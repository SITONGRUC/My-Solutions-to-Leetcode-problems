{
 "cells": [
  {
   "cell_type": "code",
   "execution_count": null,
   "metadata": {},
   "outputs": [],
   "source": [
    "# Definition for singly-linked list.\n",
    "# class ListNode(object):\n",
    "#     def __init__(self, val=0, next=None):\n",
    "#         self.val = val\n",
    "#         self.next = next\n",
    "class Solution(object):\n",
    "    def mergeKLists(self, lists):\n",
    "        \"\"\"\n",
    "        :type lists: List[ListNode]\n",
    "        :rtype: ListNode\n",
    "        \"\"\"\n",
    "        def linklist_2_list(x):\n",
    "                result_list = []\n",
    "                result = x\n",
    "                while result:\n",
    "                    result_list.append(result.val)\n",
    "                    result = result.next\n",
    "                return result_list\n",
    "        def append_list_node(list_node,new_val):\n",
    "            append_node = ListNode(new_val)\n",
    "            while list_node.next != None:\n",
    "                list_node = list_node.next\n",
    "            list_node.next = append_node\n",
    "        def list_2_linklist(x):\n",
    "            if len(x) == 0:\n",
    "                return ListNode()\n",
    "            else:\n",
    "                x_init= x\n",
    "                new = ListNode(x_init[0])\n",
    "                for i in range(1,len(x_init)):\n",
    "                    append_list_node(new,int(x_init[i]))\n",
    "                return new\n",
    "        result_list = []\n",
    "        for i in lists:\n",
    "            result_list = result_list+linklist_2_list(i)\n",
    "            result_list = list(filter(lambda x:x!= None,result_list))\n",
    "\n",
    "        result_list.sort()\n",
    "        if result_list == []:\n",
    "            return None\n",
    "        else:\n",
    "            result_list = list_2_linklist(result_list)\n",
    "            return result_list"
   ]
  }
 ],
 "metadata": {
  "kernelspec": {
   "display_name": "Python 3",
   "language": "python",
   "name": "python3"
  },
  "language_info": {
   "codemirror_mode": {
    "name": "ipython",
    "version": 3
   },
   "file_extension": ".py",
   "mimetype": "text/x-python",
   "name": "python",
   "nbconvert_exporter": "python",
   "pygments_lexer": "ipython3",
   "version": "3.8.3"
  }
 },
 "nbformat": 4,
 "nbformat_minor": 4
}
