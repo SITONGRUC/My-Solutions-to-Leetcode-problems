{
 "cells": [
  {
   "cell_type": "code",
   "execution_count": 16,
   "metadata": {},
   "outputs": [],
   "source": [
    "class ListNode(object):\n",
    "    def __init__(self, val=, next=None):\n",
    "        self.val = val\n",
    "        self.next = next"
   ]
  },
  {
   "cell_type": "code",
   "execution_count": null,
   "metadata": {},
   "outputs": [],
   "source": [
    "# Definition for singly-linked list.\n",
    "# class ListNode(object):\n",
    "#     def __init__(self, val=0, next=None):\n",
    "#         self.val = val\n",
    "#         self.next = next\n",
    "class Solution(object):\n",
    "    def reverseKGroup(self, head, k):\n",
    "        \"\"\"\n",
    "        :type head: ListNode\n",
    "        :rtype: ListNode\n",
    "        \"\"\"\n",
    "        def linklist_2_list(x):\n",
    "            result_list = []\n",
    "            result = x\n",
    "            while result:\n",
    "                result_list.append(result.val)\n",
    "                result = result.next\n",
    "            return result_list\n",
    "        def append_list_node(list_node,new_val):\n",
    "            append_node = ListNode(new_val)\n",
    "            while list_node.next != None:\n",
    "                list_node = list_node.next\n",
    "            list_node.next = append_node\n",
    "        def list_2_linklist(x):\n",
    "            if len(x) == 0:\n",
    "                return ListNode()\n",
    "            else:\n",
    "                x_init= x\n",
    "                new = ListNode(x_init[0])\n",
    "                for i in range(1,len(x_init)):\n",
    "                    append_list_node(new,int(x_init[i]))\n",
    "                return new\n",
    "        if head == None:\n",
    "            return None\n",
    "        elif head.val != None and head.next == None:\n",
    "            return head\n",
    "        else:\n",
    "            result = []\n",
    "            trail =  linklist_2_list(head)\n",
    "            if len(trail) % k == 0:\n",
    "                for i in range(0,len(trail),k):\n",
    "                    result = result+trail[i:i+k][::-1]\n",
    "            else:\n",
    "                for i in range(0,len(trail)-k,k):\n",
    "                    result = result+trail[i:i+2k[::-1]\n",
    "                result = result + trail[len(result):]\n",
    "            result = list_2_linklist(result)\n",
    "            return result"
   ]
  },
  {
   "cell_type": "code",
   "execution_count": 11,
   "metadata": {},
   "outputs": [],
   "source": [
    "trail = [4,4,4]"
   ]
  },
  {
   "cell_type": "code",
   "execution_count": 12,
   "metadata": {
    "scrolled": true
   },
   "outputs": [
    {
     "data": {
      "text/plain": [
       "[]"
      ]
     },
     "execution_count": 12,
     "metadata": {},
     "output_type": "execute_result"
    }
   ],
   "source": [
    "list(filter(lambda x:x!= 4,trail))"
   ]
  }
 ],
 "metadata": {
  "kernelspec": {
   "display_name": "Python 3 (ipykernel)",
   "language": "python",
   "name": "python3"
  },
  "language_info": {
   "codemirror_mode": {
    "name": "ipython",
    "version": 3
   },
   "file_extension": ".py",
   "mimetype": "text/x-python",
   "name": "python",
   "nbconvert_exporter": "python",
   "pygments_lexer": "ipython3",
   "version": "3.9.7"
  }
 },
 "nbformat": 4,
 "nbformat_minor": 4
}
