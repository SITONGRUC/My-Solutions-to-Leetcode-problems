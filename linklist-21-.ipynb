{
 "cells": [
  {
   "cell_type": "code",
   "execution_count": 1,
   "metadata": {},
   "outputs": [],
   "source": [
    "class ListNode(object):\n",
    "    def __init__(self, val=None, next=None):\n",
    "        self.val = val\n",
    "        self.next = next"
   ]
  },
  {
   "cell_type": "code",
   "execution_count": null,
   "metadata": {},
   "outputs": [],
   "source": [
    "# Definition for singly-linked list.\n",
    "class ListNode(object):\n",
    "    def __init__(self, val = None, next=None):\n",
    "        self.val = val\n",
    "        self.next = next\n",
    "class Solution(object):\n",
    "    def mergeTwoLists(self, list1, list2):\n",
    "        \"\"\"\n",
    "        :type list1: Optional[ListNode]\n",
    "        :type list2: Optional[ListNode]\n",
    "        :rtype: Optional[ListNode]\n",
    "        \n",
    "        \"\"\"\n",
    "        def linklist_2_list(x):\n",
    "            result_list = []\n",
    "            result = x\n",
    "            while result:\n",
    "                result_list.append(result.val)\n",
    "                result = result.next\n",
    "            return result_list\n",
    "        def append_list_node(list_node,new_val):\n",
    "            append_node = ListNode(new_val)\n",
    "            while list_node.next != None:\n",
    "                list_node = list_node.next\n",
    "            list_node.next = append_node\n",
    "        def list_2_linklist(x):\n",
    "            if len(x) == 0:\n",
    "                return ListNode()\n",
    "            else:\n",
    "                x_init= x\n",
    "                new = ListNode(x_init[0])\n",
    "                for i in range(1,len(x_init)):\n",
    "                    append_list_node(new,int(x_init[i]))\n",
    "                return new\n",
    "        list1 = linklist_2_list(list1)\n",
    "        list2 = linklist_2_list(list2)\n",
    "        list2 = list(filter(lambda x:x!= None,list2))\n",
    "        list1 = list(filter(lambda x:x!= None,list1))  \n",
    "        result = list1 + list2\n",
    "        result.sort()\n",
    "        if result == []:\n",
    "            return None\n",
    "        else:\n",
    "            result = list_2_linklist(result)\n",
    "            return result"
   ]
  },
  {
   "cell_type": "code",
   "execution_count": 3,
   "metadata": {},
   "outputs": [],
   "source": [
    "one = ListNode(1)\n",
    "two = ListNode(2)\n",
    "three = ListNode(3)\n",
    "one.next = two\n",
    "two.next = three"
   ]
  },
  {
   "cell_type": "code",
   "execution_count": 15,
   "metadata": {},
   "outputs": [],
   "source": [
    "result = [None]"
   ]
  },
  {
   "cell_type": "code",
   "execution_count": null,
   "metadata": {},
   "outputs": [],
   "source": [
    "result"
   ]
  }
 ],
 "metadata": {
  "kernelspec": {
   "display_name": "Python 3",
   "language": "python",
   "name": "python3"
  },
  "language_info": {
   "codemirror_mode": {
    "name": "ipython",
    "version": 3
   },
   "file_extension": ".py",
   "mimetype": "text/x-python",
   "name": "python",
   "nbconvert_exporter": "python",
   "pygments_lexer": "ipython3",
   "version": "3.8.3"
  }
 },
 "nbformat": 4,
 "nbformat_minor": 4
}
