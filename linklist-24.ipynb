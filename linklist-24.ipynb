{
 "cells": [
  {
   "cell_type": "code",
   "execution_count": 16,
   "metadata": {},
   "outputs": [],
   "source": [
    "class ListNode(object):\n",
    "    def __init__(self, val=, next=None):\n",
    "        self.val = val\n",
    "        self.next = next"
   ]
  },
  {
   "cell_type": "code",
   "execution_count": null,
   "metadata": {},
   "outputs": [],
   "source": [
    "class Solution(object):\n",
    "    def swapPairs(self, head):\n",
    "        \"\"\"\n",
    "        :type head: ListNode\n",
    "        :rtype: ListNode\n",
    "        \"\"\"\n",
    "        def linklist_2_list(x):\n",
    "            result_list = []\n",
    "            result = x\n",
    "            while result:\n",
    "                result_list.append(result.val)\n",
    "                result = result.next\n",
    "            return result_list\n",
    "        def append_list_node(list_node,new_val):\n",
    "            append_node = ListNode(new_val)\n",
    "            while list_node.next != None:\n",
    "                list_node = list_node.next\n",
    "            list_node.next = append_node\n",
    "        def list_2_linklist(x):\n",
    "            if len(x) == 0:\n",
    "                return ListNode()\n",
    "            else:\n",
    "                x_init= x\n",
    "                new = ListNode(x_init[0])\n",
    "                for i in range(1,len(x_init)):\n",
    "                    append_list_node(new,int(x_init[i]))\n",
    "                return new\n",
    "        if head == None:\n",
    "            return None\n",
    "        elif head.val != None and head.next == None:\n",
    "            return head\n",
    "        else:\n",
    "            result = []\n",
    "            trail =  linklist_2_list(head)\n",
    "            if len(trail) % 2 == 0:\n",
    "                for i in range(0,len(trail),2):\n",
    "                    result = result+trail[i:i+2][::-1]\n",
    "            else:\n",
    "                for i in range(0,len(trail)-1,2):\n",
    "                    result = result+trail[i:i+2][::-1]\n",
    "                result = result + [trail[len(trail)-1]]\n",
    "            result = list_2_linklist(result)\n",
    "            return result\n"
   ]
  },
  {
   "cell_type": "code",
   "execution_count": 74,
   "metadata": {},
   "outputs": [],
   "source": []
  },
  {
   "cell_type": "code",
   "execution_count": null,
   "metadata": {},
   "outputs": [],
   "source": []
  }
 ],
 "metadata": {
  "kernelspec": {
   "display_name": "Python 3",
   "language": "python",
   "name": "python3"
  },
  "language_info": {
   "codemirror_mode": {
    "name": "ipython",
    "version": 3
   },
   "file_extension": ".py",
   "mimetype": "text/x-python",
   "name": "python",
   "nbconvert_exporter": "python",
   "pygments_lexer": "ipython3",
   "version": "3.8.3"
  }
 },
 "nbformat": 4,
 "nbformat_minor": 4
}
